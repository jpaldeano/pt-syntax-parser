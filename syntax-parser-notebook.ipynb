{
 "cells": [
  {
   "cell_type": "code",
   "execution_count": 130,
   "metadata": {},
   "outputs": [
    {
     "name": "stdout",
     "output_type": "stream",
     "text": [
      "Training taggers, please wait...\n",
      "Done.\n"
     ]
    }
   ],
   "source": [
    "%run app.py"
   ]
  },
  {
   "cell_type": "code",
   "execution_count": 127,
   "metadata": {},
   "outputs": [
    {
     "name": "stdout",
     "output_type": "stream",
     "text": [
      "Tree: \n",
      "(F (SN (n Python)) (SV (V (v-fin é)) (adj espectacular)))\n"
     ]
    }
   ],
   "source": [
    "parse_text(\"Python é espectacular\")"
   ]
  },
  {
   "cell_type": "code",
   "execution_count": 128,
   "metadata": {},
   "outputs": [
    {
     "name": "stdout",
     "output_type": "stream",
     "text": [
      "Tree: \n",
      "(F\n",
      "  (SN (art o) (n João))\n",
      "  (SV (V (v-fin gosta)) (SP (prp de) (SN (n Python)))))\n"
     ]
    }
   ],
   "source": [
    "parse_text(\"o João gosta de Python\")"
   ]
  },
  {
   "cell_type": "code",
   "execution_count": 129,
   "metadata": {},
   "outputs": [
    {
     "name": "stdout",
     "output_type": "stream",
     "text": [
      "Tree: \n",
      "(F\n",
      "  (SN (art o) (n rato))\n",
      "  (OR (SP (pron-indp que) (SN (art o) (n gato))) (V (v-fin comeu)))\n",
      "  (SV (V (v-fin tinha)) (V (v-pcp comido)) (SN (n trigo))))\n"
     ]
    }
   ],
   "source": [
    "parse_text(\"o rato que o gato comeu tinha comido trigo\")"
   ]
  },
  {
   "cell_type": "code",
   "execution_count": null,
   "metadata": {},
   "outputs": [],
   "source": []
  }
 ],
 "metadata": {
  "kernelspec": {
   "display_name": "Python 3",
   "language": "python",
   "name": "python3"
  },
  "language_info": {
   "codemirror_mode": {
    "name": "ipython",
    "version": 3
   },
   "file_extension": ".py",
   "mimetype": "text/x-python",
   "name": "python",
   "nbconvert_exporter": "python",
   "pygments_lexer": "ipython3",
   "version": "3.6.5"
  }
 },
 "nbformat": 4,
 "nbformat_minor": 2
}
